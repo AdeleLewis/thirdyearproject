{
 "cells": [
  {
   "cell_type": "code",
   "execution_count": null,
   "metadata": {
    "collapsed": true
   },
   "outputs": [],
   "source": [
    "import pandas as pd\n",
    "import csv\n",
    "import re\n",
    "import nltk\n",
    "from nltk import word_tokenize\n",
    "from nltk.util import ngrams\n",
    "import random\n",
    "\n",
    "positiveTweet = pd.DataFrame()\n",
    "\n",
    "file = pd.read_csv('TwitterSentimentAnalysisDataset.csv', encoding ='ISO-8859-1')\n",
    "\n",
    "def cleanTweet( Tweet ):\n",
    "    #remove http link \n",
    "    new = re.sub(r'http.?:\\/\\/[^\\s]+[\\s]?', '', Tweet)\n",
    "    #remove numbers,hashtags,cashtags and usernames\n",
    "    cleanTweet = re.sub(r'(\\@\\S*)|\\$|\\#|\\.+|\\,|\\'', '', new)\n",
    "    return( cleanTweet );\n",
    "\n",
    "tweets = []\n",
    "\n",
    "for index, row in file.iterrows():\n",
    "    clean = cleanTweet(row.Tweet).lower()\n",
    "    words_filtered = [e for e in clean.split() if len(e) >= 3]\n",
    "    #for bigram in ngrams(token, 2):\n",
    "    #    words_filtered.append(bigram)\n",
    "    tweets.append((words_filtered, row.Sentiment))\n",
    "    \n",
    "testSize = int(len(tweets)*0.2)\n",
    "trainSize = int(len(tweets)*0.8)\n",
    "\n",
    "mixedTweets = random.sample(tweets, len(tweets))\n",
    "    \n",
    "test = mixedTweets[:testSize]\n",
    "train = mixedTweets[testSize+1:]\n",
    "\n",
    "def getWordsFromTweets(tweets):\n",
    "    allWords = []\n",
    "    for( words, sentiment) in tweets:\n",
    "        allWords.extend(words)\n",
    "    return allWords\n",
    "\n",
    "def getWordFeatures(listOfWords):\n",
    "    listOfWords = nltk.FreqDist(listOfWords)\n",
    "    wordFeatures = listOfWords.keys()\n",
    "    return wordFeatures\n",
    "\n",
    "wordFeatures = getWordFeatures(getWordsFromTweets(train))\n",
    "\n",
    "def extractFeatures(tweet):\n",
    "    words = set(tweet)\n",
    "    features ={}\n",
    "    for word in wordFeatures:\n",
    "        features['contains(%s)' % word] = (word in words)\n",
    "    return features\n",
    "\n",
    "training_set = nltk.classify.apply_features(extractFeatures, train)\n",
    "\n",
    "classifier = nltk.NaiveBayesClassifier.train(training_set)\n",
    "\n",
    "predictedSentiment = []\n",
    "realSentiment = []\n",
    "\n",
    "for (tweet, sentiment) in test:\n",
    "    predictedSentiment.append(classifier.classify(extractFeatures(tweet)))\n",
    "    realSentiment.append(sentiment)\n",
    "    \n",
    "def getAccuracy(real, predicted):\n",
    "    correct = 0\n",
    "    for i in range(len(real)):\n",
    "        if real[i] == predicted[i]:\n",
    "            correct += 1\n",
    "    print(correct)\n",
    "    return (correct/float(len(real))) * 100.0\n",
    "    \n",
    "percentageAccuracy = getAccuracy(realSentiment, predictedSentiment)\n",
    "print( percentageAccuracy )"
   ]
  },
  {
   "cell_type": "code",
   "execution_count": 26,
   "metadata": {},
   "outputs": [
    {
     "name": "stdout",
     "output_type": "stream",
     "text": [
      "<FreqDist with 5 samples and 5 outcomes>\n"
     ]
    }
   ],
   "source": [
    "import nltk\n",
    "from nltk import word_tokenize\n",
    "from nltk.util import ngrams\n",
    "from collections import Counter \n",
    "\n",
    "sentence = 'hello adele how are you?'\n",
    "\n",
    "token = nltk.word_tokenize(sentence)\n",
    "unigrams = ngrams(token, 1)\n",
    "bigrams = ngrams(token, 2)\n",
    "\n",
    "for text in bigrams:\n",
    "    print(text)\n"
   ]
  },
  {
   "cell_type": "code",
   "execution_count": 1,
   "metadata": {},
   "outputs": [
    {
     "name": "stdout",
     "output_type": "stream",
     "text": [
      "[10, 7, 5, 1, 14, 11]\n"
     ]
    }
   ],
   "source": [
    "import random\n",
    "\n",
    "array = [1, 2, 3, 4, 5, 6, 7, 8, 9, 10, 11, 12, 13, 14, 15, 16, 17, 18]\n",
    "new = random.sample(array, 6)\n",
    "print(new)"
   ]
  },
  {
   "cell_type": "code",
   "execution_count": null,
   "metadata": {
    "collapsed": true
   },
   "outputs": [],
   "source": []
  }
 ],
 "metadata": {
  "kernelspec": {
   "display_name": "Python 3",
   "language": "python",
   "name": "python3"
  },
  "language_info": {
   "codemirror_mode": {
    "name": "ipython",
    "version": 3
   },
   "file_extension": ".py",
   "mimetype": "text/x-python",
   "name": "python",
   "nbconvert_exporter": "python",
   "pygments_lexer": "ipython3",
   "version": "3.6.2"
  }
 },
 "nbformat": 4,
 "nbformat_minor": 2
}
