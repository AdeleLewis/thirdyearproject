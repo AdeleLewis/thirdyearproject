{
 "cells": [
  {
   "cell_type": "code",
   "execution_count": 6,
   "metadata": {},
   "outputs": [
    {
     "name": "stdout",
     "output_type": "stream",
     "text": [
      "patool: Extracting opinion-lexicon-English.rar ...\n",
      "patool: running \"C:\\Program Files\\WinRAR\\rar.EXE\" x -- C:\\Users\\Adele\\Anaconda3\\Scripts\\opinion-lexicon-English.rar\n",
      "patool:     with cwd=.\n",
      "patool: ... opinion-lexicon-English.rar extracted to `.'.\n",
      "opinion-lexicon-English.rar\n"
     ]
    }
   ],
   "source": [
    "import requests\n",
    "import patoolib\n",
    "\n",
    "results = 'opinion-lexicon-English.rar'\n",
    "patoolib.extract_archive(results, outdir='.')\n",
    "\n",
    "print(results)"
   ]
  },
  {
   "cell_type": "code",
   "execution_count": 8,
   "metadata": {
    "collapsed": true,
    "scrolled": true
   },
   "outputs": [],
   "source": [
    "#opinion lexicon on small data set - testFile \n",
    "#results put into spreadsheet\n",
    "import pandas as pd\n",
    "import csv\n",
    "from nltk.corpus import stopwords\n",
    "import re \n",
    "\n",
    "def clean(tweet):\n",
    "    operators = set(('will', 'can', 'no', 'nor', 'not', 'own', 'too', 'very', 'same', 'should', 'again'))\n",
    "    newStopwords = set(stopwords.words('english')) - operators\n",
    "    \n",
    "    lowerTweet = tweet.lower()\n",
    "    cleanTweet = re.sub(r'!|\\.|:', '', lowerTweet)\n",
    "    split = cleanTweet.split()\n",
    "    \n",
    "    filteredTweet = []\n",
    "    \n",
    "    for word in split:\n",
    "        if word not in newStopwords:\n",
    "            filteredTweet.append(word)\n",
    "            \n",
    "    return filteredTweet\n",
    "\n",
    "def intersect(a, b):\n",
    "    return list(set(a) & set(b))\n",
    "\n",
    "def calculateSentenceSentiment(positive, negative):\n",
    "    if positive == 0 and negative == 0:\n",
    "        sentiment = 0 \n",
    "    else: \n",
    "        sentiment = (positive - negative)/(positive + negative)\n",
    "    return(sentiment)\n",
    "\n",
    "tweets = pd.read_csv('testFile.csv', encoding ='ISO-8859-1')\n",
    "\n",
    "positiveWords = pd.read_csv('positiveWords.csv', encoding ='ISO-8859-1').values.flatten()\n",
    "negativeWords = pd.read_csv('negativeWords.csv', encoding ='ISO-8859-1').values.flatten()\n",
    "\n",
    "sentimentScore = []\n",
    "\n",
    "tweet = tweets['tweet']\n",
    "\n",
    "for row in tweet:\n",
    "    splitTweet = clean(row)\n",
    "    positiveScore = len(intersect(positiveWords, splitTweet))\n",
    "    negativeScore = len(intersect(negativeWords, splitTweet))\n",
    "    sentimentScore.append(calculateSentenceSentiment(positiveScore, negativeScore))\n",
    "\n",
    "newColumn = pd.DataFrame({'Opinion Lexicon': sentimentScore})\n",
    "tweets = tweets.merge(newColumn, left_index = True, right_index = True)\n",
    "tweets.to_csv('testFile.csv')\n",
    "\n"
   ]
  },
  {
   "cell_type": "code",
   "execution_count": 12,
   "metadata": {},
   "outputs": [
    {
     "name": "stdout",
     "output_type": "stream",
     "text": [
      "                   a+\n",
      "0              abound\n",
      "1             abounds\n",
      "2           abundance\n",
      "3            abundant\n",
      "4          accessable\n",
      "5          accessible\n",
      "6             acclaim\n",
      "7           acclaimed\n",
      "8         acclamation\n",
      "9            accolade\n",
      "10          accolades\n",
      "11      accommodative\n",
      "12       accomodative\n",
      "13         accomplish\n",
      "14       accomplished\n",
      "15     accomplishment\n",
      "16    accomplishments\n",
      "17           accurate\n",
      "18         accurately\n",
      "19         achievable\n",
      "20        achievement\n",
      "21       achievements\n",
      "22         achievible\n",
      "23             acumen\n",
      "24          adaptable\n",
      "25           adaptive\n",
      "26           adequate\n",
      "27         adjustable\n",
      "28          admirable\n",
      "29          admirably\n",
      "...               ...\n",
      "1975            witty\n",
      "1976              won\n",
      "1977           wonder\n",
      "1978        wonderful\n",
      "1979      wonderfully\n",
      "1980        wonderous\n",
      "1981      wonderously\n",
      "1982          wonders\n",
      "1983         wondrous\n",
      "1984              woo\n",
      "1985             work\n",
      "1986         workable\n",
      "1987           worked\n",
      "1988            works\n",
      "1989     world-famous\n",
      "1990            worth\n",
      "1991      worth-while\n",
      "1992       worthiness\n",
      "1993       worthwhile\n",
      "1994           worthy\n",
      "1995              wow\n",
      "1996            wowed\n",
      "1997           wowing\n",
      "1998             wows\n",
      "1999              yay\n",
      "2000         youthful\n",
      "2001             zeal\n",
      "2002           zenith\n",
      "2003             zest\n",
      "2004            zippy\n",
      "\n",
      "[2005 rows x 1 columns]\n"
     ]
    }
   ],
   "source": [
    "#get all positive and negative words\n",
    "import csv\n",
    "#list of postive and negative words from Minqing Hu and Bing Liu - \"Mining and Summarizing Customer Reviews.\" \n",
    "#Proceddings of the ACM SIGKDD International Conference on Knowledge Discovery and Data Mining (KDD-2004),\n",
    "#Aug 22-25, 2004, Seattle. Washington, USA\n",
    "\n",
    "with open(r'negativeWords.csv', 'w', newline='', encoding='utf-8') as csvFile:\n",
    "    csvWriter = csv.writer(csvFile)\n",
    "    for negative in negativeWords:\n",
    "        csvWriter.writerow([negative])        \n",
    "  \n",
    "with open(r'positiveWords.csv', 'w', newline='', encoding='utf-8') as csvFile:\n",
    "    csvWriter = csv.writer(csvFile)\n",
    "    for positive in positiveWords:\n",
    "        csvWriter.writerow([positive])\n",
    "        \n"
   ]
  },
  {
   "cell_type": "code",
   "execution_count": 5,
   "metadata": {
    "scrolled": true
   },
   "outputs": [
    {
     "name": "stderr",
     "output_type": "stream",
     "text": [
      "C:\\Users\\Adele\\Anaconda3\\lib\\site-packages\\ipykernel_launcher.py:10: SettingWithCopyWarning: \n",
      "A value is trying to be set on a copy of a slice from a DataFrame.\n",
      "Try using .loc[row_indexer,col_indexer] = value instead\n",
      "\n",
      "See the caveats in the documentation: http://pandas.pydata.org/pandas-docs/stable/indexing.html#indexing-view-versus-copy\n",
      "  # Remove the CWD from sys.path while we load stuff.\n"
     ]
    },
    {
     "data": {
      "text/plain": [
       "<matplotlib.text.Text at 0x25c2569e208>"
      ]
     },
     "execution_count": 5,
     "metadata": {},
     "output_type": "execute_result"
    },
    {
     "data": {
      "image/png": "[encoded data removed]",
      "text/plain": [
       "<matplotlib.figure.Figure at 0x25c246c1ba8>"
      ]
     },
     "metadata": {},
     "output_type": "display_data"
    }
   ],
   "source": [
    "#graph of opinion lexicon vs timestamp\n",
    "import pandas as pd\n",
    "import csv\n",
    "%matplotlib inline\n",
    "import matplotlib.pyplot as plt\n",
    "\n",
    "tweets = pd.read_csv('OpinionLexiconSentiment.csv', encoding ='ISO-8859-1')\n",
    "\n",
    "table = tweets[['Timestamp', 'Opinion Lexicon']]\n",
    "\n",
    "table['Timestamp'] = pd.to_datetime(table['Timestamp'], format='%d/%m/%Y %H:%M') \n",
    "\n",
    "meanSentiment = table.groupby(pd.Grouper(key='Timestamp', freq='24h', base=17)).mean()\n",
    "\n",
    "graph = meanSentiment.plot(y='Opinion Lexicon')\n",
    "graph.set_ylabel(\"Sentiment\")\n"
   ]
  },
  {
   "cell_type": "code",
   "execution_count": 3,
   "metadata": {},
   "outputs": [
    {
     "name": "stdout",
     "output_type": "stream",
     "text": [
      "318\n",
      "63.85542168674698\n"
     ]
    }
   ],
   "source": [
    "#testing accuracy of textblob on prelabled data - Sentiment140\n",
    "#need to set <0 to negative, >0 to postitive and 0 to neutral\n",
    "import pandas as pd\n",
    "import csv\n",
    "from nltk.corpus import stopwords\n",
    "import re \n",
    "\n",
    "def clean(tweet):\n",
    "    operators = set(('will', 'can', 'no', 'nor', 'not', 'own', 'too', 'very', 'same', 'should', 'again'))\n",
    "    newStopwords = set(stopwords.words('english')) - operators\n",
    "    \n",
    "    lowerTweet = tweet.lower()\n",
    "    #remove http link \n",
    "    new = re.sub(r'http.?:\\/\\/[^\\s]+[\\s]?', '', lowerTweet)\n",
    "    #remove numbers,hashtags,cashtags and usernames\n",
    "    cleanTweet = re.sub(r'(\\@\\S*)|\\$|\\#|\\.+|\\,|\\'', '', new)\n",
    "    split = cleanTweet.split()\n",
    "    \n",
    "    filteredTweet = []\n",
    "    \n",
    "    for word in split:\n",
    "        if word not in newStopwords:\n",
    "            filteredTweet.append(word)\n",
    "            \n",
    "    return filteredTweet\n",
    "\n",
    "def intersect(a, b):\n",
    "    return list(set(a) & set(b))\n",
    "\n",
    "def calculateSentenceSentiment(positive, negative):\n",
    "    if positive == 0 and negative == 0:\n",
    "        sentiment = 0 \n",
    "    else: \n",
    "        sentiment = (positive - negative)/(positive + negative)\n",
    "    return(sentiment)\n",
    "\n",
    "tweets = pd.read_csv('Sentiment140.csv', encoding ='ISO-8859-1')\n",
    "\n",
    "positiveWords = pd.read_csv('positiveWords.csv', encoding ='ISO-8859-1').values.flatten()\n",
    "negativeWords = pd.read_csv('negativeWords.csv', encoding ='ISO-8859-1').values.flatten()\n",
    "\n",
    "predictedSentiment = []\n",
    "realSentiment = []\n",
    "\n",
    "tweet = tweets['Tweet']\n",
    "\n",
    "for row in tweet:\n",
    "    splitTweet = clean(row)\n",
    "    positiveScore = len(intersect(positiveWords, splitTweet))\n",
    "    negativeScore = len(intersect(negativeWords, splitTweet))\n",
    "    Sentiment = calculateSentenceSentiment(positiveScore, negativeScore)\n",
    "    if Sentiment < 0:\n",
    "        type = 'negative'\n",
    "    elif Sentiment > 0:\n",
    "        type = 'positive'\n",
    "    else: \n",
    "        type = 'neutral'\n",
    "    predictedSentiment.append(type)\n",
    "    \n",
    "for index, row in tweets.iterrows():\n",
    "    realSentiment.append(row.Sentiment)\n",
    "    \n",
    "def getAccuracy(real, predicted):\n",
    "    correct = 0\n",
    "    for i in range(len(real)):\n",
    "        if real[i] == predicted[i]:\n",
    "            correct += 1\n",
    "    print(correct)\n",
    "    return (correct/float(len(real))) * 100.0\n",
    "    \n",
    "percentageAccuracy = getAccuracy(realSentiment, predictedSentiment)\n",
    "print( percentageAccuracy )"
   ]
  },
  {
   "cell_type": "code",
   "execution_count": null,
   "metadata": {
    "collapsed": true
   },
   "outputs": [],
   "source": []
  }
 ],
 "metadata": {
  "kernelspec": {
   "display_name": "Python 3",
   "language": "python",
   "name": "python3"
  },
  "language_info": {
   "codemirror_mode": {
    "name": "ipython",
    "version": 3
   },
   "file_extension": ".py",
   "mimetype": "text/x-python",
   "name": "python",
   "nbconvert_exporter": "python",
   "pygments_lexer": "ipython3",
   "version": "3.6.2"
  }
 },
 "nbformat": 4,
 "nbformat_minor": 2
}
